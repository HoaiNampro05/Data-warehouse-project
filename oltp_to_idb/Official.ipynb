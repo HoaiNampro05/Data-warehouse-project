{
 "cells": [
  {
   "cell_type": "code",
   "execution_count": 57,
   "id": "d3cd3bc3-b8f5-48f4-bf9f-b84a1e0c9855",
   "metadata": {},
   "outputs": [],
   "source": [
    "from pyspark.sql import SparkSession\n",
    "\n",
    "\n",
    "URL_REPRES = \"jdbc:sqlserver://Admin\\TRAM1:1433;databaseName=RepresentativeOffice;user=sa;password=12345;\"\n",
    "URL_SALE = \"jdbc:sqlserver://Admin\\TRAM1:1433;databaseName=Sale;user=sa;password=12345;\"\n",
    "URL_IDB =  \"jdbc:sqlserver://Admin\\TRAM1:1433;databaseName=Intergration;user=sa;password=12345;\"\n",
    "spark = SparkSession.builder \\\n",
    "    .appName(\"Read from MSSQL\") \\\n",
    "    .config(\"spark.driver.extraClassPath\", \"C:/SPARK/spark-3.5.1-bin-hadoop3/jars/apache-spark-sql-connector.jar\") \\\n",
    "    .getOrCreate()\n",
    "url = \"jdbc:sqlserver://Admin\\TRAM1;databaseName=RepresentativeOffice;user=sa;password=12345;\"\n",
    "properties = {\n",
    "    \"user\": \"sa\",\n",
    "    \"password\": \"12345\",\n",
    "    \"driver\": \"com.microsoft.sqlserver.jdbc.SQLServerDriver\"\n",
    "}"
   ]
  },
  {
   "cell_type": "code",
   "execution_count": 59,
   "id": "b0243f72-c957-4871-993f-96151fbde0bf",
   "metadata": {},
   "outputs": [],
   "source": [
    "def sale_to_idb(sale_table,idb_table,start, end):\n",
    "    condition = f\"time<='{end}' and time >'{start}'\"\n",
    "    if sale_table==\"Orders\":\n",
    "        condition = f\"OrderDate<='{end}' and OrderDate >'{start}'\"\n",
    "    print(sale_table,condition)\n",
    "    df = spark.read.jdbc(url=URL_SALE, table=sale_table, properties=properties).filter(condition)\n",
    "    df.write.jdbc(url=URL_IDB,\n",
    "              table=idb_table,\n",
    "              mode = \"append\",\n",
    "              properties=properties)\n",
    "    return 0"
   ]
  },
  {
   "cell_type": "code",
   "execution_count": 66,
   "id": "2d53b5df-f5fa-4bf2-9892-712bb7eecc38",
   "metadata": {},
   "outputs": [],
   "source": [
    "def repres_to_idb(repres_table,idb_table,start, end):\n",
    "    condition = f\"time<='{end}' and time >'{start}'\"\n",
    "    if repres_table==\"Customers\":\n",
    "        condition = f\"FirstOrderDate<='{end}' and FirstOrderDate >'{start}'\"\n",
    "    print(repres_table,condition)\n",
    "    df = spark.read.jdbc(url=URL_REPRES, table=repres_table, properties=properties).filter(condition)\n",
    "    df.write.jdbc(url=URL_IDB,\n",
    "              table=idb_table,\n",
    "              mode = \"append\",\n",
    "              properties=properties)\n",
    "    return 0"
   ]
  },
  {
   "cell_type": "code",
   "execution_count": 64,
   "id": "f8a25f10-080b-4e02-9d33-e20dad1337db",
   "metadata": {},
   "outputs": [],
   "source": [
    "m1 = '2008-01-01'\n",
    "m2 = '2023-01-01'\n",
    "m3 = '2023-12-02'"
   ]
  },
  {
   "cell_type": "code",
   "execution_count": 62,
   "id": "7128e54b-f9e9-4ffa-bb86-fd5d09e98b67",
   "metadata": {},
   "outputs": [],
   "source": [
    "move_ls = [(\"RepresentativeOffices\",\"RepresentativeOffices\",\"sale\"),\n",
    "           (\"Stores\",\"Stores\",\"sale\"),\n",
    "           (\"Items\",\"Items\",\"sale\"),\n",
    "           (\"Customers\",\"Customers\",\"repres\"),\n",
    "           (\"TravelCustomers\",\"TravelCustomers\",\"repres\"),\n",
    "           (\"PostalCustomers\",\"PostalCustomers\",\"repres\"),\n",
    "           (\"StoredItems\",\"StoredItems\",\"sale\"),\n",
    "           (\"Orders\",\"Orders\",\"sale\"),\n",
    "           (\"OrderedItems\",\"OrderedItems\",\"sale\")\n",
    "          ]\n",
    "           "
   ]
  },
  {
   "cell_type": "code",
   "execution_count": 63,
   "id": "807977e6-b027-4201-99e2-80054564d008",
   "metadata": {},
   "outputs": [
    {
     "name": "stdout",
     "output_type": "stream",
     "text": [
      "RepresentativeOffices time<='2023-01-01' and time >'2008-01-01'\n",
      "Stores time<='2023-01-01' and time >'2008-01-01'\n",
      "Items time<='2023-01-01' and time >'2008-01-01'\n",
      "StoredItems time<='2023-01-01' and time >'2008-01-01'\n",
      "Orders OrderDate<='2023-01-01' and OrderDate >'2008-01-01'\n",
      "OrderedItems time<='2023-01-01' and time >'2008-01-01'\n"
     ]
    }
   ],
   "source": [
    "for x in move_ls:\n",
    "    if x[2]==\"sale\":\n",
    "        sale_to_idb(x[0],x[1],m1,m2)\n",
    "    else:\n",
    "        repres_to_idb(x[0],x[1],m1,m2)"
   ]
  },
  {
   "cell_type": "code",
   "execution_count": 65,
   "id": "589d0621-ce6e-4a30-9a55-15c977d749f4",
   "metadata": {},
   "outputs": [
    {
     "name": "stdout",
     "output_type": "stream",
     "text": [
      "RepresentativeOffices time<='2023-12-02' and time >'2023-01-01'\n",
      "Stores time<='2023-12-02' and time >'2023-01-01'\n",
      "Items time<='2023-12-02' and time >'2023-01-01'\n",
      "StoredItems time<='2023-12-02' and time >'2023-01-01'\n",
      "Orders OrderDate<='2023-12-02' and OrderDate >'2023-01-01'\n",
      "OrderedItems time<='2023-12-02' and time >'2023-01-01'\n"
     ]
    }
   ],
   "source": [
    "for x in move_ls:\n",
    "    if x[2]==\"sale\":\n",
    "        sale_to_idb(x[0],x[1],m2,m3)\n",
    "    else:\n",
    "        repres_to_idb(x[0],x[1],m2,m3)"
   ]
  },
  {
   "cell_type": "code",
   "execution_count": null,
   "id": "ea5904a2-1205-4cc7-a96c-7199d11e8d97",
   "metadata": {},
   "outputs": [],
   "source": []
  }
 ],
 "metadata": {
  "kernelspec": {
   "display_name": "Python 3 (ipykernel)",
   "language": "python",
   "name": "python3"
  },
  "language_info": {
   "codemirror_mode": {
    "name": "ipython",
    "version": 3
   },
   "file_extension": ".py",
   "mimetype": "text/x-python",
   "name": "python",
   "nbconvert_exporter": "python",
   "pygments_lexer": "ipython3",
   "version": "3.10.11"
  }
 },
 "nbformat": 4,
 "nbformat_minor": 5
}
