{
 "cells": [
  {
   "cell_type": "code",
   "execution_count": null,
   "id": "9dafe93f-5713-43bb-a3f1-bda3c25d18c2",
   "metadata": {},
   "outputs": [],
   "source": [
    "from pyspark.sql import SparkSession\n",
    "from pyspark.sql.functions import date_format\n",
    "URL_IDB =  \"jdbc:sqlserver://Admin\\TRAM1:1433;databaseName=Integration;user=sa;password=12345;\"\n",
    "URL_DW =  \"jdbc:sqlserver://Admin\\TRAM1:1433;databaseName=datawarehouse;user=sa;password=12345;\"\n",
    "spark = SparkSession.builder \\\n",
    "    .appName(\"Read from MSSQL\") \\\n",
    "    .config(\"spark.driver.extraClassPath\", \"C:/SPARK/spark-3.5.1-bin-hadoop3/jars/apache-spark-sql-connector.jar\") \\\n",
    "    .getOrCreate()\n",
    "properties = {\n",
    "    \"user\": \"sa\",\n",
    "    \"password\": \"12345\",\n",
    "    \"driver\": \"com.microsoft.sqlserver.jdbc.SQLServerDriver\""
   ]
  },
  {
   "cell_type": "code",
   "execution_count": null,
   "id": "22023991-d7a0-4b23-95d2-75c1c8bfe952",
   "metadata": {},
   "outputs": [],
   "source": [
    "m1 = '2008-01-01'\n",
    "m2 = '2023-01-01'\n",
    "m3 = '2023-12-02'"
   ]
  },
  {
   "cell_type": "code",
   "execution_count": null,
   "id": "7f80b111-f861-42fc-bc59-62ad30cedb79",
   "metadata": {},
   "outputs": [],
   "source": [
    "no_change_table_ls = [\n",
    "    (\"RepresentativeOffices\",\"DimRepresentativeOffice\"),\n",
    "    (\"Stores\",\"DimStore\"),\n",
    "    (\"Items\",\"DimItem\"),\n",
    "]"
   ]
  },
  {
   "cell_type": "code",
   "execution_count": null,
   "id": "6a83e2ad-cd4d-4e78-bc82-8bd992c23183",
   "metadata": {},
   "outputs": [],
   "source": [
    "def nochange_table_idb_to_dw(idb_table,wh_table,start, end):\n",
    "    condition = f\"time<='{end}' and time >'{start}'\"\n",
    "    print(idb_table,condition)\n",
    "    df = spark.read.jdbc(url=URL_IDB, table=idb_table, properties=properties).filter(condition)\n",
    "    if idb_table==\"RepresentativeOffices\":\n",
    "        df = df.withColumnRenamed(\"CityId\", \"CityKey\")\n",
    "    if idb_table==\"Stores\":\n",
    "        df = df.withColumnRenamed(\"StoreId\", \"StoreKey\")\n",
    "        df = df.withColumnRenamed(\"CityId\", \"CityKey\")\n",
    "    if idb_table==\"Items\":\n",
    "        df = df.withColumnRenamed(\"ItemId\", \"ItemKey\")\n",
    "    df.write.jdbc(url=URL_DW,\n",
    "              table=wh_table,\n",
    "              mode = \"append\",\n",
    "              properties=properties)\n",
    "    return 0"
   ]
  },
  {
   "cell_type": "code",
   "execution_count": null,
   "id": "a4e3e9db-e16f-49f6-86f7-44071153778d",
   "metadata": {},
   "outputs": [],
   "source": [
    "def idb_customer_to_dw_customer(start,end):\n",
    "    df = spark.read.jdbc(url=URL_IDB, table=\"Customers\", properties=properties)\n",
    "    df.createOrReplaceTempView(\"Customers\")\n",
    "    dft = spark.read.jdbc(url=URL_IDB, table=\"TravelCustomers\", properties=properties)\n",
    "    dft.createOrReplaceTempView(\"TravelCustomers\")\n",
    "    dfp = spark.read.jdbc(url=URL_IDB, table=\"PostalCustomers\", properties=properties)\n",
    "    dfp.createOrReplaceTempView(\"PostalCustomers\")\n",
    "    query = f\"\"\"\n",
    "    SELECT cus.Customerid, cus.CustomerName, cus.CityId,\n",
    "    CASE\n",
    "    WHEN EXISTS (SELECT customerid FROM TravelCustomers WHERE customerid = cus.customerid) THEN 1\n",
    "    ELSE 0\n",
    "    END AS Travel,\n",
    "    CASE\n",
    "    WHEN EXISTS (SELECT customerid FROM PostalCustomers WHERE customerid = cus.customerid) THEN 1\n",
    "    ELSE 0\n",
    "    END AS Postal,\n",
    "    cus.FirstOrderDate\n",
    "    FROM Customers AS cus\n",
    "    WHERE cus.FirstOrderDate>='{start}' and cus.FirstOrderDate<'{end}';\n",
    "    \"\"\"\n",
    "    result = spark.sql(query)\n",
    "    dwdf = result.toDF(\"CustomerKey\",\"CustomerName\",\"CityKey\",\"Travel\",\"Postal\",\"FirstOrderDate\")\n",
    "    dwdf.write.jdbc(url=URL_DW,\n",
    "              table=\"DimCustomer\",\n",
    "              mode = \"append\",\n",
    "              properties=properties)\n",
    "    return 0"
   ]
  },
  {
   "cell_type": "code",
   "execution_count": null,
   "id": "045deebd-2e54-40ec-b177-1cd47364439f",
   "metadata": {},
   "outputs": [],
   "source": [
    "def idb_to_order_item_facts(start,end):\n",
    "    dfc_cus = spark.read.jdbc(url=URL_IDB, table=\"Customers\", properties=properties)\n",
    "    df.createOrReplaceTempView(\"Customers\")\n",
    "    df_it = spark.read.jdbc(url=URL_IDB, table=\"Items\", properties=properties)\n",
    "    df_it.createOrReplaceTempView(\"Items\")\n",
    "    df_od = spark.read.jdbc(url=URL_IDB, table=\"Orders\", properties=properties)\n",
    "    df_od.createOrReplaceTempView(\"Orders\")\n",
    "    df_ot = spark.read.jdbc(url=URL_IDB, table=\"OrderedItems\", properties=properties)\n",
    "    df_ot.createOrReplaceTempView(\"OrderItems\")\n",
    "    query = f\"\"\" SELECT ot.Time, ot.ItemId AS ItemKey, cus.CustomerId AS CustomerKey,\n",
    "        ot.OrderedQuantity, ot.OrderCost, ot.OrderCost - (ot.OrderedQuantity * it.Price) AS Profit\n",
    "    FROM OrderedItems ot, Items it, Customers cus, Orders od\n",
    "    WHERE ot.time>='{m1}' and ot.time<'{m3}' and ot.ItemId = it.ItemId AND ot.OrderId = od.OrderId AND od.CustomerId = cus.CustomerId;\n",
    "    \"\"\"\n",
    "    result = spark.sql(query)\n",
    "    result = result.withColumn(\"TimeKey\", date_format(result.Time, \"yyyyMMdd\"))\n",
    "    result = result.select(\"TimeKey\",\"ItemKey\",\"CustomerKey\",\"OrderedQuantity\",\"OrderCost\",\"Profit\")\n",
    "    dwdf = result.toDF(\"TimeKey\",\"ItemKey\",\"CustomerKey\",\"OrderedQuantity\",\"OrderedCost\",\"Profit\")\n",
    "    dwdf.write.jdbc(url=URL_DW,\n",
    "              table=\"FactOrderItems\",\n",
    "              mode = \"append\",\n",
    "              properties=properties)\n",
    "    return 0"
   ]
  },
  {
   "cell_type": "code",
   "execution_count": null,
   "id": "ebbaf101-892f-4e83-9741-a208181ca121",
   "metadata": {},
   "outputs": [],
   "source": [
    "def idb_to_store_item_facts(start,end):\n",
    "    df =  spark.read.jdbc(url=URL_IDB, table=\"StoredItems\", properties=properties)\n",
    "    df.createOrReplaceTempView(\"StoredItems\")\n",
    "    query = f\"\"\"\n",
    "    SELECT Time,ItemId,StoreId,StoredQuantity\n",
    "    FROM StoredItems\n",
    "    where Time>='{start}' and Time<'{end}';\n",
    "    \"\"\"\n",
    "    result = spark.sql(query)\n",
    "    result = result.withColumn(\"TimeKey\", date_format(result.Time, \"yyyyMMdd\"))\n",
    "    result = result.select(\"TimeKey\",\"ItemId\",\"StoreId\",\"StoredQuantity\")\n",
    "    dwdf =  result.toDF(\"TimeKey\",\"ItemKey\",\"StoreKey\",\"Quantity\")\n",
    "    dwdf.write.jdbc(url=URL_DW,\n",
    "              table=\"FactStoreItems\",\n",
    "              mode = \"append\",\n",
    "              properties=properties)\n",
    "    return 0"
   ]
  },
  {
   "cell_type": "code",
   "execution_count": null,
   "id": "0289cdb0-0655-4292-a4a8-520d456cab8c",
   "metadata": {},
   "outputs": [],
   "source": [
    "for x in no_change_table_ls:\n",
    "    nochange_table_idb_to_dw(x[0],x[1],m1,m2)"
   ]
  },
  {
   "cell_type": "code",
   "execution_count": null,
   "id": "ccea7b48-406c-4595-bf0d-fd67f3fb00bf",
   "metadata": {},
   "outputs": [],
   "source": [
    "for x in no_change_table_ls:\n",
    "    nochange_table_idb_to_dw(x[0],x[1],m2,m3)"
   ]
  },
  {
   "cell_type": "code",
   "execution_count": null,
   "id": "7f8578f8-e146-4513-8852-836e94c07c22",
   "metadata": {},
   "outputs": [],
   "source": [
    "idb_customer_to_dw_customer(m1,m3)"
   ]
  },
  {
   "cell_type": "code",
   "execution_count": null,
   "id": "1079970f-b236-4fa1-9d75-1f46dc6850e6",
   "metadata": {},
   "outputs": [],
   "source": [
    "idb_to_order_item_facts(m1,m3)"
   ]
  },
  {
   "cell_type": "code",
   "execution_count": null,
   "id": "ae14f211-1f8f-402f-bc6e-40ec37477857",
   "metadata": {},
   "outputs": [],
   "source": [
    "idb_to_store_item_facts(m1,m3)"
   ]
  }
 ],
 "metadata": {
  "kernelspec": {
   "display_name": "Python 3 (ipykernel)",
   "language": "python",
   "name": "python3"
  },
  "language_info": {
   "codemirror_mode": {
    "name": "ipython",
    "version": 3
   },
   "file_extension": ".py",
   "mimetype": "text/x-python",
   "name": "python",
   "nbconvert_exporter": "python",
   "pygments_lexer": "ipython3",
   "version": "3.10.11"
  }
 },
 "nbformat": 4,
 "nbformat_minor": 5
}
