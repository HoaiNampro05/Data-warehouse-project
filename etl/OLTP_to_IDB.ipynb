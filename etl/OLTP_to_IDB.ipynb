{
 "cells": [
  {
   "cell_type": "code",
   "execution_count": null,
   "id": "a3c9c317-8099-4494-bb3e-4457df2a0d05",
   "metadata": {},
   "outputs": [],
   "source": [
    "from pyspark.sql import SparkSession\n",
    "\n",
    "\n",
    "URL_REPRES = \"jdbc:sqlserver://Admin\\TRAM1:1433;databaseName=RepresentativeOffice;user=sa;password=12345;\"\n",
    "URL_SALE = \"jdbc:sqlserver://Admin\\TRAM1:1433;databaseName=Sale;user=sa;password=12345;\"\n",
    "URL_IDB =  \"jdbc:sqlserver://Admin\\TRAM1:1433;databaseName=Integration;user=sa;password=12345;\"\n",
    "spark = SparkSession.builder \\\n",
    "    .appName(\"Read from MSSQL\") \\\n",
    "    .config(\"spark.driver.extraClassPath\", \"C:/SPARK/spark-3.5.1-bin-hadoop3/jars/apache-spark-sql-connector.jar\") \\\n",
    "    .getOrCreate()\n",
    "url = \"jdbc:sqlserver://Admin\\TRAM1;databaseName=RepresentativeOffice;user=sa;password=12345;\"\n",
    "properties = {\n",
    "    \"user\": \"sa\",\n",
    "    \"password\": \"12345\",\n",
    "    \"driver\": \"com.microsoft.sqlserver.jdbc.SQLServerDriver\""
   ]
  },
  {
   "cell_type": "code",
   "execution_count": null,
   "id": "fadbfae0-c6e7-4ab5-ac1d-56765cf10f8c",
   "metadata": {},
   "outputs": [],
   "source": [
    "m1 = '2008-01-01'\n",
    "m2 = '2023-01-01'\n",
    "m3 = '2023-12-02'"
   ]
  },
  {
   "cell_type": "code",
   "execution_count": null,
   "id": "fa74ed91-bc2e-4236-be05-0f34e20a841b",
   "metadata": {},
   "outputs": [],
   "source": [
    "def sale_to_idb(sale_table,idb_table,start, end):\n",
    "    condition = f\"time<='{end}' and time >'{start}'\"\n",
    "    if sale_table==\"Orders\":\n",
    "        condition = f\"OrderDate<='{end}' and OrderDate >'{start}'\"\n",
    "    print(sale_table,condition)\n",
    "    df = spark.read.jdbc(url=URL_SALE, table=sale_table, properties=properties).filter(condition)\n",
    "    df.write.jdbc(url=URL_IDB,\n",
    "              table=idb_table,\n",
    "              mode = \"append\",\n",
    "              properties=properties)\n",
    "    return 0"
   ]
  },
  {
   "cell_type": "code",
   "execution_count": null,
   "id": "24710c39-d2ea-4d3e-973e-0e233ae7df5b",
   "metadata": {},
   "outputs": [],
   "source": [
    "def repres_to_idb(repres_table,idb_table,start, end):\n",
    "    condition = f\"time<='{end}' and time >'{start}'\"\n",
    "    if repres_table==\"Customers\":\n",
    "        condition = f\"FirstOrderDate<='{end}' and FirstOrderDate >'{start}'\"\n",
    "    print(repres_table,condition)\n",
    "    df = spark.read.jdbc(url=URL_REPRES, table=repres_table, properties=properties).filter(condition)\n",
    "    df.write.jdbc(url=URL_IDB,\n",
    "              table=idb_table,\n",
    "              mode = \"append\",\n",
    "              properties=properties)\n",
    "    return 0"
   ]
  },
  {
   "cell_type": "code",
   "execution_count": null,
   "id": "49078da1-b08a-4e3a-b93a-14008b1080ea",
   "metadata": {},
   "outputs": [],
   "source": [
    "move_ls = [(\"RepresentativeOffices\",\"RepresentativeOffices\",\"sale\"),\n",
    "           (\"Stores\",\"Stores\",\"sale\"),\n",
    "           (\"Items\",\"Items\",\"sale\"),\n",
    "           (\"Customers\",\"Customers\",\"repres\"),\n",
    "           (\"TravelCustomers\",\"TravelCustomers\",\"repres\"),\n",
    "           (\"PostalCustomers\",\"PostalCustomers\",\"repres\"),\n",
    "           (\"StoredItems\",\"StoredItems\",\"sale\"),\n",
    "           (\"Orders\",\"Orders\",\"sale\"),\n",
    "           (\"OrderedItems\",\"OrderedItems\",\"sale\")\n",
    "          ]\n",
    "           "
   ]
  },
  {
   "cell_type": "code",
   "execution_count": null,
   "id": "a079ffdf-d5d1-4a7f-881a-03957517606c",
   "metadata": {},
   "outputs": [],
   "source": [
    "for x in move_ls:\n",
    "    if x[2]==\"sale\":\n",
    "        sale_to_idb(x[0],x[1],m1,m2)\n",
    "    else:\n",
    "        repres_to_idb(x[0],x[1],m1,m2)"
   ]
  },
  {
   "cell_type": "code",
   "execution_count": null,
   "id": "7615de76-cece-4412-a9a3-52034d72702f",
   "metadata": {},
   "outputs": [],
   "source": [
    "for x in move_ls:\n",
    "    if x[2]==\"sale\":\n",
    "        sale_to_idb(x[0],x[1],m2,m3)\n",
    "    else:\n",
    "        repres_to_idb(x[0],x[1],m2,m3)"
   ]
  }
 ],
 "metadata": {
  "kernelspec": {
   "display_name": "Python 3 (ipykernel)",
   "language": "python",
   "name": "python3"
  },
  "language_info": {
   "codemirror_mode": {
    "name": "ipython",
    "version": 3
   },
   "file_extension": ".py",
   "mimetype": "text/x-python",
   "name": "python",
   "nbconvert_exporter": "python",
   "pygments_lexer": "ipython3",
   "version": "3.10.11"
  }
 },
 "nbformat": 4,
 "nbformat_minor": 5
}
